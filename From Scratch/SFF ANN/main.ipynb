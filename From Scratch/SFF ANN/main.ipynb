{
 "cells": [
  {
   "cell_type": "code",
   "execution_count": 1,
   "id": "a92e7512",
   "metadata": {},
   "outputs": [],
   "source": [
    "import numpy as np\n",
    "import random\n",
    "import nnfs\n",
    "from nnfs.datasets import spiral_data\n",
    "nnfs.init()"
   ]
  },
  {
   "cell_type": "markdown",
   "id": "3ca381bb",
   "metadata": {},
   "source": [
    "### Single Layer, No Batches"
   ]
  },
  {
   "cell_type": "code",
   "execution_count": 2,
   "id": "30626778",
   "metadata": {},
   "outputs": [
    {
     "name": "stdout",
     "output_type": "stream",
     "text": [
      "[ 4.79999995 -0.3499999   2.38499999]\n"
     ]
    }
   ],
   "source": [
    "inputs = np.array([1, 2, 3, 2.5])\n",
    "\n",
    "weights = np.array([[0.2, 0.8, -0.5, 1.0],\n",
    "                    [0.5, -0.91, 0.26, -0.5],\n",
    "                    [-0.26, -0.27, 0.17, 0.87]])\n",
    "\n",
    "weights = np.array([[0.2, 0.5, -0.26],\n",
    "                    [0.8, -0.91, -0.27],\n",
    "                    [-0.5, -0.26, 0.17],\n",
    "                    [1.0, -0.5, 0.87]])\n",
    "\n",
    "biases = np.array([2, 3, 0.5])\n",
    "\n",
    "output = np.dot(inputs, weights) + biases\n",
    "print(output)"
   ]
  },
  {
   "cell_type": "markdown",
   "id": "92a16ca8",
   "metadata": {},
   "source": [
    "### Single Layer, With Batches"
   ]
  },
  {
   "cell_type": "code",
   "execution_count": 3,
   "id": "ef69eef0",
   "metadata": {},
   "outputs": [
    {
     "name": "stdout",
     "output_type": "stream",
     "text": [
      "[[ 4.79999995 -0.3499999   2.38499999]\n",
      " [ 8.9000001  -1.28999996  0.19999999]\n",
      " [ 1.41000003 -0.66499996  0.02599999]]\n"
     ]
    }
   ],
   "source": [
    "inputs = np.array([[1, 2, 3, 2.5],\n",
    "                   [2.0, 5.0, -1.0, 2.0],\n",
    "                   [-1.5, 2.7, 3.3, -0.8]])\n",
    "\n",
    "weights = np.array([[0.2, 0.5, -0.26],\n",
    "                    [0.8, -0.91, -0.27],\n",
    "                    [-0.5, -0.26, 0.17],\n",
    "                    [1.0, -0.5, 0.87]])\n",
    "\n",
    "biases = np.array([2, 3, 0.5])\n",
    "\n",
    "output = np.dot(inputs, weights) + biases\n",
    "print(output)"
   ]
  },
  {
   "cell_type": "markdown",
   "id": "df65494b",
   "metadata": {},
   "source": [
    "### Dense Layer Class & Activation Functions\n",
    "\n",
    "Let $X$ be in the input matrix to the layer such that, \n",
    "\n",
    "$X = \n",
    "\\begin{bmatrix}\n",
    "    X_{11} & X_{12} & X_{13} & \\dots  & X_{1M} \\\\\n",
    "    X_{21} & X_{22} & X_{23} & \\dots  & X_{2M} \\\\\n",
    "    \\vdots & \\vdots & \\vdots & \\ddots & \\vdots \\\\\n",
    "    X_{S1} & X_{S2} & X_{S3} & \\dots  & X_{SM}\n",
    "\\end{bmatrix}$\n",
    "\n",
    "In which, $S$ is the sample size and $M$ is the number of inputs to a given neuron. The weights of the layer $W$ are then, \n",
    "\n",
    "$W = \n",
    "\\begin{bmatrix}\n",
    "    W_{11} & W_{12} & W_{13} & \\dots  & W_{1N} \\\\\n",
    "    W_{21} & W_{22} & W_{23} & \\dots  & W_{2N} \\\\\n",
    "    \\vdots & \\vdots & \\vdots & \\ddots & \\vdots \\\\\n",
    "    W_{M1} & W_{M2} & W_{M3} & \\dots  & W_{MN}\n",
    "\\end{bmatrix}$\n",
    "\n",
    "Likewise, we have the bias $B$ as, \n",
    "\n",
    "$B = \n",
    "\\begin{bmatrix}\n",
    "    B_{1} & B_{2} & B_{3} & \\dots  & B_{4} \\\\\n",
    "\\end{bmatrix}$\n",
    "\n",
    "The output of the layer $Y$ is then given via $\\sigma(XW + B) = Y$ where $\\sigma(z)$ is the activation function of choice."
   ]
  },
  {
   "cell_type": "code",
   "execution_count": 4,
   "id": "9138bb49",
   "metadata": {},
   "outputs": [
    {
     "name": "stdout",
     "output_type": "stream",
     "text": [
      "[[0.33333334 0.33333334 0.33333334]\n",
      " [0.33358076 0.3323869  0.33403233]\n",
      " [0.33333334 0.33333334 0.33333334]\n",
      " [0.33706257 0.32853162 0.33440587]\n",
      " [0.331975   0.3340509  0.3339741 ]\n",
      " [0.33333334 0.33333334 0.33333334]\n",
      " [0.3334715  0.3335453  0.33298326]\n",
      " [0.3357063  0.33018556 0.33410814]\n",
      " [0.33333334 0.33333334 0.33333334]\n",
      " [0.3423476  0.3267132  0.3309392 ]\n",
      " [0.33333334 0.33333334 0.33333334]\n",
      " [0.3323655  0.33384457 0.3337899 ]\n",
      " [0.3335868  0.3337223  0.33269086]\n",
      " [0.33632594 0.328948   0.33472607]\n",
      " [0.33333334 0.33333334 0.33333334]]\n"
     ]
    }
   ],
   "source": [
    "class Activation_ReLU:\n",
    "    \"\"\"The rectified linear function.\"\"\"\n",
    "    def forward(self, inputs):\n",
    "        self.output = np.maximum(0, inputs)\n",
    "\n",
    "class Activation_SoftMAX:\n",
    "    \"\"\"The normalised expontential function or 'softmax function'.\"\"\"\n",
    "    def forward(self, inputs):\n",
    "\n",
    "        # Overflow prevention,\n",
    "        exp_values = np.exp(inputs - np.max(inputs, axis = 1, keepdims = True))\n",
    "        \n",
    "        self.output = exp_values/np.sum(exp_values, axis = 1, keepdims = True)\n",
    "\n",
    "class Layer_Dense:\n",
    "    \"\"\"\n",
    "    Parameters:\n",
    "    inputs - Number of neurons in the layer.\n",
    "    neurons - Number of inputs for a given neuron in the later.\n",
    "    batch_size - The batch size.\n",
    "    \"\"\"\n",
    "\n",
    "    def __init__(self, inputs, neurons):\n",
    "        \"\"\"The weights are intially set to a random value between\n",
    "        -1 and 1.\"\"\"\n",
    "        self.weights = 0.1*np.random.randn(inputs, neurons)\n",
    "        self.biases = np.zeros((1, neurons))\n",
    "    def forward(self, inputs):\n",
    "        self.output = np.dot(inputs, self.weights) + self.biases\n",
    "\n",
    "X, y = spiral_data(samples = 5, classes = 3)\n",
    "\n",
    "# Creating neutral network,\n",
    "LAYER1 = Layer_Dense(inputs = 2, neurons = 3)\n",
    "LAYER2 = Layer_Dense(inputs = 3, neurons = 3)\n",
    "ACTIVATION1 = Activation_ReLU()\n",
    "ACTIVATION2 = Activation_SoftMAX()\n",
    "\n",
    "# Feed-Forward Propagation,\n",
    "LAYER1.forward(inputs = X)\n",
    "ACTIVATION1.forward(LAYER1.output)\n",
    "LAYER2.forward(inputs = ACTIVATION1.output)\n",
    "ACTIVATION2.forward(LAYER2.output)\n",
    "print(ACTIVATION2.output)"
   ]
  },
  {
   "cell_type": "markdown",
   "id": "f4b52733",
   "metadata": {},
   "source": [
    "### The Loss Function"
   ]
  },
  {
   "cell_type": "code",
   "execution_count": null,
   "id": "fa63534e",
   "metadata": {},
   "outputs": [],
   "source": []
  }
 ],
 "metadata": {
  "kernelspec": {
   "display_name": "Python 3 (ipykernel)",
   "language": "python",
   "name": "python3"
  },
  "language_info": {
   "codemirror_mode": {
    "name": "ipython",
    "version": 3
   },
   "file_extension": ".py",
   "mimetype": "text/x-python",
   "name": "python",
   "nbconvert_exporter": "python",
   "pygments_lexer": "ipython3",
   "version": "3.10.1"
  }
 },
 "nbformat": 4,
 "nbformat_minor": 5
}
